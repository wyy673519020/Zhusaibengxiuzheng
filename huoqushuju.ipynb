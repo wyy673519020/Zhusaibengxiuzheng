{
 "cells": [
  {
   "cell_type": "code",
   "execution_count": 1,
   "metadata": {},
   "outputs": [
    {
     "name": "stdout",
     "output_type": "stream",
     "text": [
      "0.242954762,0.09375,0.106292517,0.074358974\n",
      "0.242954762,0.15625,0.106292517,0.127838828\n",
      "0.242954762,0.183125,0.106292517,0.150835165\n",
      "0.242954762,0.22890625,0.106292517,0.190009158\n",
      "0.242954762,0.2746875,0.106292517,0.22918315\n",
      "0.242954762,0.3125,0.106292517,0.261538462\n",
      "0.242954762,0.32046875,0.106292517,0.268357143\n",
      "0.242954762,0.359375,0.106292517,0.301648352\n",
      "0.242954762,0.36625,0.106292517,0.307531136\n",
      "0.242954762,0.41203125,0.106292517,0.346705128\n"
     ]
    }
   ],
   "source": [
    "%%sh\n",
    "head data/source_std1.csv"
   ]
  },
  {
   "cell_type": "code",
   "execution_count": null,
   "metadata": {},
   "outputs": [],
   "source": []
  }
 ],
 "metadata": {
  "kernelspec": {
   "display_name": "Python 3",
   "language": "python",
   "name": "python3"
  },
  "language_info": {
   "codemirror_mode": {
    "name": "ipython",
    "version": 3
   },
   "file_extension": ".py",
   "mimetype": "text/x-python",
   "name": "python",
   "nbconvert_exporter": "python",
   "pygments_lexer": "ipython3",
   "version": "3.6.1"
  }
 },
 "nbformat": 4,
 "nbformat_minor": 2
}
